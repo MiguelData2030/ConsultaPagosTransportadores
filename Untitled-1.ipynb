{
 "cells": [
  {
   "cell_type": "code",
   "execution_count": 2,
   "metadata": {},
   "outputs": [
    {
     "name": "stdout",
     "output_type": "stream",
     "text": [
      "USUARIOS:\n",
      "     Acreedor            Nombre del Proveedor\n",
      "0  2000007804      SANCHEZ TORRES JUAN CARLOS\n",
      "1  2000007805   HERRERA MARTINEZ DIANA MALENY\n",
      "2  2000007947  GONZALEZ CARABALLO LUIS OVIDIO\n",
      "3  2000008013        ROMAN BEDOYA RUBEN DARIO\n",
      "4  2000008022         CARVAJAL GRANADA FELIPE\n",
      "\n",
      "ANTICIPOS:\n",
      "   Soc.    Acreedor            Nombre del Proveedor     Nº doc.  MANIFIESTO   \n",
      "0  CO03  2000007804      SANCHEZ TORRES JUAN CARLOS  1700021000   242479060  \\\n",
      "1  CO03  2000007805   HERRERA MARTINEZ DIANA MALENY  1700008000   242480239   \n",
      "2  CO03  2000007947  GONZALEZ CARABALLO LUIS OVIDIO  1700007500   242479154   \n",
      "3  CO03  2000008013        ROMAN BEDOYA RUBEN DARIO  1700019000   242480216   \n",
      "4  CO03  2000008022         CARVAJAL GRANADA FELIPE  1700017000   242480291   \n",
      "\n",
      "   Err  BP VP Clase Signif.clave contab. Fecha_Manifiesto  Fe.contab.  CPag   \n",
      "0  NaN NaN  K    KA     Anular anticipos       02.01.2024  02.01.2024   NaN  \\\n",
      "1  NaN NaN  K    KA     Anular anticipos       02.01.2024  02.01.2024   NaN   \n",
      "2  NaN NaN  K    KA     Anular anticipos       02.01.2024  02.01.2024   NaN   \n",
      "3  NaN NaN  K    KA     Anular anticipos       02.01.2024  02.01.2024   NaN   \n",
      "4  NaN NaN  K    KA     Anular anticipos       02.01.2024  02.01.2024   NaN   \n",
      "\n",
      "   ANTICIPO Mon.        Pago BU  DOC PAGO  SPOOL  \n",
      "0   -111000  COP  F110000001  Y       NaN    NaN  \n",
      "1   -141420  COP  F110000002  Y       NaN    NaN  \n",
      "2   -111000  COP  F110000003  Y       NaN    NaN  \n",
      "3   -132000  COP  F110000004  Y       NaN    NaN  \n",
      "4   -261360  COP  F110000005  Y       NaN    NaN  \n",
      "\n",
      "SALDOS:\n",
      "                  pago    Acreedor                           Nombre 1   \n",
      "0  2022-05-13 00:00:00  2000007728  NAVARRO VERGARA KATERINE MILAGROS  \\\n",
      "1  2022-05-13 00:00:00  2000007728  NAVARRO VERGARA KATERINE MILAGROS   \n",
      "2  2022-05-13 00:00:00  2000007728  NAVARRO VERGARA KATERINE MILAGROS   \n",
      "3  2022-05-13 00:00:00  2000007728  NAVARRO VERGARA KATERINE MILAGROS   \n",
      "4  2022-05-13 00:00:00  2000007728  NAVARRO VERGARA KATERINE MILAGROS   \n",
      "\n",
      "  MANIFIESTO  VALOR_SALDO  MES           FECHA PAGO   AÑO  \n",
      "0  241961048      -188839  may  2022-05-13 00:00:00  2022  \n",
      "1  241962459       -39384  may  2022-05-13 00:00:00  2022  \n",
      "2  241962649       -52459  may  2022-05-13 00:00:00  2022  \n",
      "3  241963704      -135379  may  2022-05-13 00:00:00  2022  \n",
      "4  241964813       -19692  may  2022-05-13 00:00:00  2022  \n"
     ]
    }
   ],
   "source": [
    "import pandas as pd\n",
    "\n",
    "# Nuevo enlace del archivo de Google Drive (modificado para descarga directa)\n",
    "url = \"https://docs.google.com/spreadsheets/d/1chmzMUVVT6IYTsGmXDoN88W8_4JpzEbo/export?format=xlsx\"\n",
    "\n",
    "# Leer las hojas específicas del archivo\n",
    "try:\n",
    "    df_usuarios = pd.read_excel(url, sheet_name=\"USUARIOS\")\n",
    "    df_anticipos = pd.read_excel(url, sheet_name=\"ANTICIPOS\")\n",
    "    df_relacion_pagos = pd.read_excel(url, sheet_name=\"SALDOS\")\n",
    "\n",
    "    # Mostrar las primeras filas para confirmar\n",
    "    print(\"USUARIOS:\")\n",
    "    print(df_usuarios.head())\n",
    "\n",
    "    print(\"\\nANTICIPOS:\")\n",
    "    print(df_anticipos.head())\n",
    "\n",
    "    print(\"\\nSALDOS:\")\n",
    "    print(df_relacion_pagos.head())\n",
    "except Exception as e:\n",
    "    print(f\"Error al leer el archivo: {e}\")\n",
    "\n"
   ]
  },
  {
   "cell_type": "markdown",
   "metadata": {},
   "source": [
    "LIMPIEZA DE LOS DATOS"
   ]
  },
  {
   "cell_type": "code",
   "execution_count": 3,
   "metadata": {},
   "outputs": [
    {
     "name": "stdout",
     "output_type": "stream",
     "text": [
      "Datos limpios de la tabla ANTICIPOS:\n",
      "     Acreedor            Nombre del Proveedor  MANIFIESTO Fecha_Manifiesto   \n",
      "0  2000007804      SANCHEZ TORRES JUAN CARLOS   242479060       2024-01-02  \\\n",
      "1  2000007805   HERRERA MARTINEZ DIANA MALENY   242480239       2024-01-02   \n",
      "2  2000007947  GONZALEZ CARABALLO LUIS OVIDIO   242479154       2024-01-02   \n",
      "3  2000008013        ROMAN BEDOYA RUBEN DARIO   242480216       2024-01-02   \n",
      "4  2000008022         CARVAJAL GRANADA FELIPE   242480291       2024-01-02   \n",
      "\n",
      "   ANTICIPO  \n",
      "0  111000.0  \n",
      "1  141420.0  \n",
      "2  111000.0  \n",
      "3  132000.0  \n",
      "4  261360.0  \n"
     ]
    }
   ],
   "source": [
    "# Leer la hoja \"ANTICIPOS\" desde el archivo\n",
    "df_anticipos = pd.read_excel(url, sheet_name=\"ANTICIPOS\")\n",
    "\n",
    "# Seleccionar solo las columnas necesarias\n",
    "df_anticipos = df_anticipos[['Acreedor', 'Nombre del Proveedor', 'MANIFIESTO', 'Fecha_Manifiesto', 'ANTICIPO']]\n",
    "\n",
    "# Convertir la columna \"Fecha_Manifiesto\" a formato datetime\n",
    "df_anticipos['Fecha_Manifiesto'] = pd.to_datetime(df_anticipos['Fecha_Manifiesto'], format='%d.%m.%Y')\n",
    "\n",
    "# Limpiar la columna \"ANTICIPO\" eliminando el signo \"-\" y convirtiendo a tipo numérico\n",
    "df_anticipos['ANTICIPO'] = df_anticipos['ANTICIPO'].astype(str).str.replace('-', '').astype(float)\n",
    "\n",
    "# Mostrar los primeros registros después de la limpieza\n",
    "print(\"Datos limpios de la tabla ANTICIPOS:\")\n",
    "print(df_anticipos.head())\n",
    "\n"
   ]
  },
  {
   "cell_type": "code",
   "execution_count": 4,
   "metadata": {},
   "outputs": [
    {
     "name": "stdout",
     "output_type": "stream",
     "text": [
      "        pago    Acreedor                           Nombre 1 MANIFIESTO   \n",
      "0 2022-05-13  2000007728  NAVARRO VERGARA KATERINE MILAGROS  241961048  \\\n",
      "1 2022-05-13  2000007728  NAVARRO VERGARA KATERINE MILAGROS  241962459   \n",
      "2 2022-05-13  2000007728  NAVARRO VERGARA KATERINE MILAGROS  241962649   \n",
      "3 2022-05-13  2000007728  NAVARRO VERGARA KATERINE MILAGROS  241963704   \n",
      "4 2022-05-13  2000007728  NAVARRO VERGARA KATERINE MILAGROS  241964813   \n",
      "\n",
      "   VALOR_SALDO  \n",
      "0     188839.0  \n",
      "1      39384.0  \n",
      "2      52459.0  \n",
      "3     135379.0  \n",
      "4      19692.0  \n"
     ]
    }
   ],
   "source": [
    "# Filtrar y sobrescribir las columnas necesarias (elimina cualquier columna extra)\n",
    "df_relacion_pagos = df_relacion_pagos[[\"pago\", \"Acreedor\", \"Nombre 1\", \"MANIFIESTO\", \"VALOR_SALDO\"]]\n",
    "\n",
    "# Convertir la columna \"pago\" a formato datetime (día, mes, año)\n",
    "df_relacion_pagos[\"pago\"] = pd.to_datetime(df_relacion_pagos[\"pago\"], dayfirst=True)\n",
    "\n",
    "# Limpiar la columna \"VALOR_SALDO\"\n",
    "df_relacion_pagos[\"VALOR_SALDO\"] = (\n",
    "    df_relacion_pagos[\"VALOR_SALDO\"]\n",
    "    .astype(str)\n",
    "    .str.replace(\"-\", \"\", regex=False)\n",
    "    .str.replace(\",\", \"\", regex=False)\n",
    "    .astype(float)\n",
    ")\n",
    "\n",
    "# Mostrar las primeras filas del dataframe limpio\n",
    "print(df_relacion_pagos.head())\n",
    "\n",
    "\n"
   ]
  },
  {
   "cell_type": "code",
   "execution_count": 5,
   "metadata": {},
   "outputs": [
    {
     "name": "stdout",
     "output_type": "stream",
     "text": [
      "Conexión exitosa a PostgreSQL.\n"
     ]
    }
   ],
   "source": [
    "from sqlalchemy import create_engine\n",
    "\n",
    "# Datos de conexión a PostgreSQL\n",
    "usuario = 'postgres'\n",
    "contraseña = 'Luna2030.'  # Cambia por tu contraseña\n",
    "host = 'localhost'\n",
    "puerto = '5433'  # Asegúrate de que coincide con tu configuración\n",
    "db = 'Proyecto_Pagos'\n",
    "\n",
    "# Crear el motor de conexión\n",
    "engine = create_engine(f'postgresql+psycopg2://{usuario}:{contraseña}@{host}:{puerto}/{db}')\n",
    "\n",
    "# Probar la conexión\n",
    "try:\n",
    "    with engine.connect() as connection:\n",
    "        print(\"Conexión exitosa a PostgreSQL.\")\n",
    "except Exception as e:\n",
    "    print(f\"Error al conectar a la base de datos: {e}\")\n"
   ]
  },
  {
   "cell_type": "code",
   "execution_count": 6,
   "metadata": {},
   "outputs": [
    {
     "name": "stdout",
     "output_type": "stream",
     "text": [
      "Datos importados exitosamente a la tabla 'usuarios'.\n",
      "Datos importados exitosamente a la tabla 'anticipos'.\n",
      "Tabla 'saldos' exportada a PostgreSQL sin columnas extra.\n"
     ]
    }
   ],
   "source": [
    "# Subir la tabla de usuarios\n",
    "df_usuarios.to_sql('usuarios', engine, if_exists='replace', index=False)\n",
    "print(\"Datos importados exitosamente a la tabla 'usuarios'.\")\n",
    "\n",
    "# Subir la tabla de anticipos\n",
    "df_anticipos.to_sql('anticipos', engine, if_exists='replace', index=False)\n",
    "print(\"Datos importados exitosamente a la tabla 'anticipos'.\")\n",
    "\n",
    "# Subir la tabla de relación de pagos\n",
    "df_relacion_pagos.to_sql('saldos', engine, if_exists='replace', index=False)\n",
    "print(\"Tabla 'saldos' exportada a PostgreSQL sin columnas extra.\")\n"
   ]
  }
 ],
 "metadata": {
  "kernelspec": {
   "display_name": "Python 3",
   "language": "python",
   "name": "python3"
  },
  "language_info": {
   "codemirror_mode": {
    "name": "ipython",
    "version": 3
   },
   "file_extension": ".py",
   "mimetype": "text/x-python",
   "name": "python",
   "nbconvert_exporter": "python",
   "pygments_lexer": "ipython3",
   "version": "3.11.3"
  }
 },
 "nbformat": 4,
 "nbformat_minor": 2
}
