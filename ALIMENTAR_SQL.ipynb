{
 "cells": [
  {
   "cell_type": "code",
   "execution_count": 8,
   "metadata": {},
   "outputs": [
    {
     "name": "stdout",
     "output_type": "stream",
     "text": [
      "USUARIOS:\n",
      "     Acreedor            Nombre del Proveedor\n",
      "0  2000007804      SANCHEZ TORRES JUAN CARLOS\n",
      "1  2000007805   HERRERA MARTINEZ DIANA MALENY\n",
      "2  2000007947  GONZALEZ CARABALLO LUIS OVIDIO\n",
      "3  2000008013        ROMAN BEDOYA RUBEN DARIO\n",
      "4  2000008022         CARVAJAL GRANADA FELIPE\n",
      "\n",
      "ANTICIPOS:\n",
      "   Soc.    Acreedor            Nombre del Proveedor     Nº doc.  MANIFIESTO   \n",
      "0  CO03  2000007804      SANCHEZ TORRES JUAN CARLOS  1700021000   242479060  \\\n",
      "1  CO03  2000007805   HERRERA MARTINEZ DIANA MALENY  1700008000   242480239   \n",
      "2  CO03  2000007947  GONZALEZ CARABALLO LUIS OVIDIO  1700007500   242479154   \n",
      "3  CO03  2000008013        ROMAN BEDOYA RUBEN DARIO  1700019000   242480216   \n",
      "4  CO03  2000008022         CARVAJAL GRANADA FELIPE  1700017000   242480291   \n",
      "\n",
      "   Err  BP VP Clase Signif.clave contab. Fecha_Manifiesto  Fe.contab.  CPag   \n",
      "0  NaN NaN  K    KA     Anular anticipos       02.01.2024  02.01.2024   NaN  \\\n",
      "1  NaN NaN  K    KA     Anular anticipos       02.01.2024  02.01.2024   NaN   \n",
      "2  NaN NaN  K    KA     Anular anticipos       02.01.2024  02.01.2024   NaN   \n",
      "3  NaN NaN  K    KA     Anular anticipos       02.01.2024  02.01.2024   NaN   \n",
      "4  NaN NaN  K    KA     Anular anticipos       02.01.2024  02.01.2024   NaN   \n",
      "\n",
      "   ANTICIPO Mon.        Pago BU  DOC PAGO  SPOOL  \n",
      "0   -111000  COP  F110000001  Y       NaN    NaN  \n",
      "1   -141420  COP  F110000002  Y       NaN    NaN  \n",
      "2   -111000  COP  F110000003  Y       NaN    NaN  \n",
      "3   -132000  COP  F110000004  Y       NaN    NaN  \n",
      "4   -261360  COP  F110000005  Y       NaN    NaN  \n",
      "\n",
      "SALDOS:\n",
      "                  pago    Acreedor                           Nombre 1   \n",
      "0  2022-05-13 00:00:00  2000007728  NAVARRO VERGARA KATERINE MILAGROS  \\\n",
      "1  2022-05-13 00:00:00  2000007728  NAVARRO VERGARA KATERINE MILAGROS   \n",
      "2  2022-05-13 00:00:00  2000007728  NAVARRO VERGARA KATERINE MILAGROS   \n",
      "3  2022-05-13 00:00:00  2000007728  NAVARRO VERGARA KATERINE MILAGROS   \n",
      "4  2022-05-13 00:00:00  2000007728  NAVARRO VERGARA KATERINE MILAGROS   \n",
      "\n",
      "  MANIFIESTO  VALOR_SALDO  MES           FECHA PAGO   AÑO  \n",
      "0  241961048      -188839  may  2022-05-13 00:00:00  2022  \n",
      "1  241962459       -39384  may  2022-05-13 00:00:00  2022  \n",
      "2  241962649       -52459  may  2022-05-13 00:00:00  2022  \n",
      "3  241963704      -135379  may  2022-05-13 00:00:00  2022  \n",
      "4  241964813       -19692  may  2022-05-13 00:00:00  2022  \n"
     ]
    }
   ],
   "source": [
    "import pandas as pd\n",
    "\n",
    "# Ruta del archivo local\n",
    "ruta_archivo = \"Data_Pepsicargo.xlsx\"\n",
    "\n",
    "# Leer las hojas específicas del archivo Excel\n",
    "try:\n",
    "    # Cargando las hojas necesarias\n",
    "    df_usuarios = pd.read_excel(ruta_archivo, sheet_name=\"USUARIOS\")\n",
    "    df_anticipos = pd.read_excel(ruta_archivo, sheet_name=\"ANTICIPOS\")\n",
    "    df_relacion_pagos = pd.read_excel(ruta_archivo, sheet_name=\"SALDOS\")\n",
    "    \n",
    "    # Mostrar las primeras filas para confirmar la lectura correcta\n",
    "    print(\"USUARIOS:\")\n",
    "    print(df_usuarios.head())\n",
    "    \n",
    "    print(\"\\nANTICIPOS:\")\n",
    "    print(df_anticipos.head())\n",
    "    \n",
    "    print(\"\\nSALDOS:\")\n",
    "    print(df_relacion_pagos.head())\n",
    "\n",
    "except Exception as e:\n",
    "    print(f\"Error al leer el archivo: {e}\")\n",
    "\n",
    "# Ahora puedes proceder a implementar las funcionalidades adicionales,\n",
    "# como las visualizaciones o cálculos en Streamlit.\n",
    "\n"
   ]
  },
  {
   "cell_type": "markdown",
   "metadata": {},
   "source": [
    "LIMPIEZA DE LOS DATOS"
   ]
  },
  {
   "cell_type": "code",
   "execution_count": 11,
   "metadata": {},
   "outputs": [
    {
     "name": "stdout",
     "output_type": "stream",
     "text": [
      "Datos limpios de la tabla ANTICIPOS:\n",
      "     Acreedor            Nombre del Proveedor  MANIFIESTO Fecha_Manifiesto   \n",
      "0  2000007804      SANCHEZ TORRES JUAN CARLOS   242479060       2024-01-02  \\\n",
      "1  2000007805   HERRERA MARTINEZ DIANA MALENY   242480239       2024-01-02   \n",
      "2  2000007947  GONZALEZ CARABALLO LUIS OVIDIO   242479154       2024-01-02   \n",
      "3  2000008013        ROMAN BEDOYA RUBEN DARIO   242480216       2024-01-02   \n",
      "4  2000008022         CARVAJAL GRANADA FELIPE   242480291       2024-01-02   \n",
      "\n",
      "   ANTICIPO  \n",
      "0    111000  \n",
      "1    141420  \n",
      "2    111000  \n",
      "3    132000  \n",
      "4    261360  \n"
     ]
    }
   ],
   "source": [
    "\n",
    "# Ruta del archivo local\n",
    "ruta_archivo = \"Data_Pepsicargo.xlsx\"\n",
    "\n",
    "# Leer la hoja \"ANTICIPOS\" desde el archivo\n",
    "try:\n",
    "    df_anticipos = pd.read_excel(ruta_archivo, sheet_name=\"ANTICIPOS\")\n",
    "\n",
    "    # Seleccionar solo las columnas necesarias\n",
    "    columnas_necesarias = ['Acreedor', 'Nombre del Proveedor', 'MANIFIESTO', 'Fecha_Manifiesto', 'ANTICIPO']\n",
    "    df_anticipos = df_anticipos[columnas_necesarias]\n",
    "\n",
    "    # Convertir la columna \"Fecha_Manifiesto\" a formato datetime\n",
    "    df_anticipos['Fecha_Manifiesto'] = pd.to_datetime(df_anticipos['Fecha_Manifiesto'], format='%d.%m.%Y', errors='coerce')\n",
    "\n",
    "    # Limpiar la columna \"ANTICIPO\" eliminando el signo \"-\" y convirtiendo a tipo numérico\n",
    "    df_anticipos['ANTICIPO'] = pd.to_numeric(df_anticipos['ANTICIPO'].astype(str).str.replace('-', ''), errors='coerce')\n",
    "\n",
    "    # Mostrar los primeros registros después de la limpieza\n",
    "    print(\"Datos limpios de la tabla ANTICIPOS:\")\n",
    "    print(df_anticipos.head())\n",
    "\n",
    "except Exception as e:\n",
    "    print(f\"Error al procesar el archivo: {e}\")\n"
   ]
  },
  {
   "cell_type": "code",
   "execution_count": 13,
   "metadata": {},
   "outputs": [
    {
     "name": "stdout",
     "output_type": "stream",
     "text": [
      "Error al procesar el archivo: Expected value of kwarg 'errors' to be one of ['raise', 'ignore']. Supplied value is 'coerce'\n"
     ]
    }
   ],
   "source": [
    "import pandas as pd\n",
    "\n",
    "# Ruta del archivo local\n",
    "ruta_archivo = \"Data_Pepsicargo.xlsx\"\n",
    "\n",
    "try:\n",
    "    # Leer la hoja \"SALDOS\" desde el archivo\n",
    "    df_saldos = pd.read_excel(ruta_archivo, sheet_name=\"SALDOS\")\n",
    "\n",
    "    # Seleccionar las columnas necesarias\n",
    "    columnas_necesarias = [\"pago\", \"Acreedor\", \"Nombre 1\", \"MANIFIESTO\", \"VALOR_SALDO\"]\n",
    "    df_saldos = df_saldos[columnas_necesarias]\n",
    "\n",
    "    # Convertir la columna \"pago\" a formato datetime (día/mes/año)\n",
    "    df_saldos[\"pago\"] = pd.to_datetime(df_saldos[\"pago\"], format='%d-%b-%Y', errors='coerce')\n",
    "\n",
    "    # Limpiar la columna \"VALOR_SALDO\" eliminando caracteres no deseados y convirtiendo a tipo numérico\n",
    "    df_saldos[\"VALOR_SALDO\"] = (\n",
    "        df_saldos[\"VALOR_SALDO\"]\n",
    "        .astype(str)  # Asegurar que sea de tipo string\n",
    "        .str.replace(\"-\", \"\", regex=False)  # Eliminar signos negativos\n",
    "        .str.replace(\",\", \"\", regex=False)  # Eliminar comas\n",
    "        .astype(float, errors='coerce')  # Convertir a tipo float\n",
    "    )\n",
    "\n",
    "    # Validar registros con datos nulos y advertir\n",
    "    if df_saldos.isnull().any().any():\n",
    "        print(\"Advertencia: Hay datos nulos en el DataFrame. Revisa las siguientes columnas:\")\n",
    "        print(df_saldos.isnull().sum())\n",
    "\n",
    "    # Mostrar los primeros registros del DataFrame limpio\n",
    "    print(\"Datos limpios de la tabla SALDOS:\")\n",
    "    print(df_saldos.head())\n",
    "\n",
    "except Exception as e:\n",
    "    print(f\"Error al procesar el archivo: {e}\")\n",
    "\n"
   ]
  },
  {
   "cell_type": "code",
   "execution_count": 14,
   "metadata": {},
   "outputs": [
    {
     "name": "stdout",
     "output_type": "stream",
     "text": [
      "Conexión exitosa a PostgreSQL.\n"
     ]
    }
   ],
   "source": [
    "from sqlalchemy import create_engine\n",
    "\n",
    "# Datos de conexión a PostgreSQL\n",
    "usuario = 'postgres'\n",
    "contraseña = 'Luna2030.'  # Cambia por tu contraseña\n",
    "host = 'localhost'\n",
    "puerto = '5433'  # Asegúrate de que coincide con tu configuración\n",
    "db = 'Proyecto_Pagos'\n",
    "\n",
    "# Crear el motor de conexión\n",
    "engine = create_engine(f'postgresql+psycopg2://{usuario}:{contraseña}@{host}:{puerto}/{db}')\n",
    "\n",
    "# Probar la conexión\n",
    "try:\n",
    "    with engine.connect() as connection:\n",
    "        print(\"Conexión exitosa a PostgreSQL.\")\n",
    "except Exception as e:\n",
    "    print(f\"Error al conectar a la base de datos: {e}\")\n"
   ]
  },
  {
   "cell_type": "code",
   "execution_count": 15,
   "metadata": {},
   "outputs": [
    {
     "name": "stdout",
     "output_type": "stream",
     "text": [
      "Tabla 'usuarios' exportada a PostgreSQL exitosamente.\n",
      "Tabla 'anticipos' exportada a PostgreSQL exitosamente.\n",
      "Tabla 'saldos' exportada a PostgreSQL exitosamente.\n"
     ]
    }
   ],
   "source": [
    "try:\n",
    "    df_usuarios.to_sql('usuarios', engine, if_exists='replace', index=False)\n",
    "    print(\"Tabla 'usuarios' exportada a PostgreSQL exitosamente.\")\n",
    "\n",
    "    df_anticipos.to_sql('anticipos', engine, if_exists='replace', index=False)\n",
    "    print(\"Tabla 'anticipos' exportada a PostgreSQL exitosamente.\")\n",
    "\n",
    "    df_saldos.to_sql('saldos', engine, if_exists='replace', index=False)\n",
    "    print(\"Tabla 'saldos' exportada a PostgreSQL exitosamente.\")\n",
    "except Exception as e:\n",
    "    print(f\"Error al exportar tablas a PostgreSQL: {e}\")\n"
   ]
  }
 ],
 "metadata": {
  "kernelspec": {
   "display_name": "Python 3",
   "language": "python",
   "name": "python3"
  },
  "language_info": {
   "codemirror_mode": {
    "name": "ipython",
    "version": 3
   },
   "file_extension": ".py",
   "mimetype": "text/x-python",
   "name": "python",
   "nbconvert_exporter": "python",
   "pygments_lexer": "ipython3",
   "version": "3.11.3"
  }
 },
 "nbformat": 4,
 "nbformat_minor": 2
}
